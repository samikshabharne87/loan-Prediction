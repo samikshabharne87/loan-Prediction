{
 "cells": [
  {
   "cell_type": "markdown",
   "metadata": {},
   "source": [
    "# Introduction to Natural Language Processing"
   ]
  },
  {
   "cell_type": "markdown",
   "metadata": {},
   "source": [
    "Natural-language processing (NLP) is a field of computer science, artificial intelligence concerned with the interactions between computers and human (natural) languages, and, in particular, concerned with programming computers to fruitfully process large natural language data.\n",
    "\n",
    "It is focussed on making sense of language using statistics and computers\n",
    "\n",
    "Some challenges of NLP:\n",
    "- Topic Identification: Chatbox\n",
    "- Text Classification: Translation, Sentiment Analysis\n",
    "\n",
    "Reference for NLTK : https://www.nltk.org/\n",
    "\n",
    "Good read: Bird, Steven, Edward Loper and Ewan Klein (2009), Natural Language Processing with Python. O’Reilly Media Inc. "
   ]
  },
  {
   "cell_type": "markdown",
   "metadata": {},
   "source": [
    "# 1. Regular Expressions (AKA regex)\n",
    "a regular expression is a pattern describing a certain amount of text\n",
    "\n",
    "\n",
    "REGEX is helpful in tokenization so that we can pre-processing text before doing NLP to achieve tasks such as:\n",
    "- Web/doc scraping\n",
    "- Text cleaning\n",
    "- Email address parsing etc.\n",
    "\n",
    "There are many regex patterns possible, some of the basic and commen ones are : \n",
    "- '\\w+' for word\n",
    "- '\\d' for digit\n",
    "- '\\s' for space\n",
    "- '.*' for wildchar\n",
    "- '+' or '*' for greedy match\n",
    "- '\\S' for not space\n",
    "- '[a-b]' for lower case group etc.\n",
    "\n",
    "Libraries for regular expression in python is re and for NLP its nltk\n",
    "\n",
    "Various modules within re packages are:\n",
    "    - split\n",
    "    - match\n",
    "    - findall\n",
    "    - search\n",
    "    \n",
    "Format to find a patter in test by re is: \"re.module_name(_pattern_,_text_)\"\n",
    "\n",
    "For example:"
   ]
  },
  {
   "cell_type": "code",
   "execution_count": 5,
   "metadata": {},
   "outputs": [
    {
     "data": {
      "text/plain": [
       "<_sre.SRE_Match object; span=(25, 31), match='python'>"
      ]
     },
     "execution_count": 5,
     "metadata": {},
     "output_type": "execute_result"
    }
   ],
   "source": [
    "import re\n",
    "re.search(\"python\",\"This is NLP session with python language\")"
   ]
  },
  {
   "cell_type": "code",
   "execution_count": 4,
   "metadata": {},
   "outputs": [
    {
     "data": {
      "text/plain": [
       "<_sre.SRE_Match object; span=(0, 5), match='hello'>"
      ]
     },
     "execution_count": 4,
     "metadata": {},
     "output_type": "execute_result"
    }
   ],
   "source": [
    "import re\n",
    "re.match('hello','hello world!!')"
   ]
  },
  {
   "cell_type": "markdown",
   "metadata": {},
   "source": [
    "find first word using \\w+"
   ]
  },
  {
   "cell_type": "code",
   "execution_count": 8,
   "metadata": {},
   "outputs": [
    {
     "data": {
      "text/plain": [
       "<_sre.SRE_Match object; span=(0, 5), match='hello'>"
      ]
     },
     "execution_count": 8,
     "metadata": {},
     "output_type": "execute_result"
    }
   ],
   "source": [
    "import re\n",
    "re.match(r'\\w+','hello world!!')"
   ]
  },
  {
   "cell_type": "code",
   "execution_count": 11,
   "metadata": {
    "scrolled": true
   },
   "outputs": [
    {
     "name": "stdout",
     "output_type": "stream",
     "text": [
      "['Python', 'is', 'an', 'interpreted', 'high', 'level', 'programming', 'language']\n"
     ]
    }
   ],
   "source": [
    "import re\n",
    "mylist1 = re.findall(r'\\w+','Python is an interpreted high-level programming language')\n",
    "print(mylist1)"
   ]
  },
  {
   "cell_type": "code",
   "execution_count": 24,
   "metadata": {},
   "outputs": [
    {
     "name": "stdout",
     "output_type": "stream",
     "text": [
      "['H', 'e', 'l', 'l', 'o', 'W', 'o', 'r', 'l', 'd']\n"
     ]
    }
   ],
   "source": [
    "import re\n",
    "print(re.findall(r'\\w','Hello World!!'))"
   ]
  },
  {
   "cell_type": "code",
   "execution_count": 12,
   "metadata": {},
   "outputs": [
    {
     "name": "stdout",
     "output_type": "stream",
     "text": [
      "[' ', ' ']\n"
     ]
    }
   ],
   "source": [
    "import re\n",
    "print(re.findall(r'\\s','Hello World !!'))"
   ]
  },
  {
   "cell_type": "code",
   "execution_count": 13,
   "metadata": {},
   "outputs": [
    {
     "name": "stdout",
     "output_type": "stream",
     "text": [
      "['H', 'e', 'l', 'l', 'o', 'W', 'o', 'r', 'l', 'd', '!', '!']\n"
     ]
    }
   ],
   "source": [
    "import re\n",
    "print(re.findall(r'\\S','Hello World !!'))"
   ]
  },
  {
   "cell_type": "code",
   "execution_count": 14,
   "metadata": {},
   "outputs": [
    {
     "name": "stdout",
     "output_type": "stream",
     "text": [
      "['b', 'e', 'h', 'j', 'gb', 'ython', 'python']\n"
     ]
    }
   ],
   "source": [
    "import re\n",
    "print(re.findall(r'[a-z]+','AbCDeF GhIjK !@#Jgb Python 2python'))"
   ]
  },
  {
   "cell_type": "code",
   "execution_count": 15,
   "metadata": {},
   "outputs": [
    {
     "name": "stdout",
     "output_type": "stream",
     "text": [
      "['Hello', 'DS', 'This', 'What']\n"
     ]
    }
   ],
   "source": [
    "import re\n",
    "sample_text = \"Hello, how are you? this is DS course! This course contains 20 modules and 2 sections. What would you like to start with?\"\n",
    "CapitalWords_re = r\"[A-Z]\\w+\"\n",
    "print(re.findall(CapitalWords_re,sample_text))"
   ]
  },
  {
   "cell_type": "code",
   "execution_count": 24,
   "metadata": {},
   "outputs": [
    {
     "name": "stdout",
     "output_type": "stream",
     "text": [
      "['Hello, how are you', ' this is a DS course', ' This course contains 20 modules and 2 sections', ' What would you like to start with', '']\n"
     ]
    }
   ],
   "source": [
    "import re\n",
    "sample_text = \"Hello, how are you? this is a DS course! This course contains 20 modules and 2 sections. What would you like to start with?\"\n",
    "Sentences_re = r\"[?!.]\"\n",
    "print(re.split(Sentences_re,sample_text))"
   ]
  },
  {
   "cell_type": "code",
   "execution_count": 16,
   "metadata": {},
   "outputs": [
    {
     "name": "stdout",
     "output_type": "stream",
     "text": [
      "['Hello,', 'how', 'are', 'you?', 'this', 'is', 'a', 'DS', 'course', '!', 'This', 'course', 'contains', '20', 'modules', 'and', '2', 'sections.', 'What', 'would', 'you', 'like', 'to', 'start', 'with?']\n"
     ]
    }
   ],
   "source": [
    "import re\n",
    "sample_text = \"Hello, how are you? this is a DS course ! This course contains 20 modules and 2 sections. What would you like to start with?\"\n",
    "spaces_re = r\"\\s+\"\n",
    "print(re.split(spaces_re,sample_text))"
   ]
  },
  {
   "cell_type": "code",
   "execution_count": 27,
   "metadata": {},
   "outputs": [
    {
     "name": "stdout",
     "output_type": "stream",
     "text": [
      "['20', '2']\n"
     ]
    }
   ],
   "source": [
    "import re\n",
    "sample_text = \"Hello, how are you? this is a DS course! This course contains 20 modules and 2 sections. What would you like to start with?\"\n",
    "numbers_re = r\"\\d+\"\n",
    "print(re.findall(numbers_re,sample_text))"
   ]
  },
  {
   "cell_type": "code",
   "execution_count": 29,
   "metadata": {},
   "outputs": [
    {
     "name": "stdout",
     "output_type": "stream",
     "text": [
      "[' how', ' are', ' you', ' this', ' is', ' a', ' DS', ' course', ' This', ' course', ' contains', ' 20', ' modules', ' and', ' 2', ' sections', ' What', ' would', ' you', ' like', ' to', ' start', ' with']\n"
     ]
    }
   ],
   "source": [
    "#Regex groups, with | for OR  and club them into  () \n",
    "import re\n",
    "sample_text = \"Hello, how are you? this is a DS course! This course contains 20 modules and 2 sections. What would you like to start with?\"\n",
    "numbers_re = (r'(\\d+ | \\w+)')\n",
    "print(re.findall(numbers_re,sample_text))"
   ]
  },
  {
   "cell_type": "code",
   "execution_count": 32,
   "metadata": {},
   "outputs": [],
   "source": [
    "#regex groups, with explicit character ranges using []"
   ]
  },
  {
   "cell_type": "code",
   "execution_count": 33,
   "metadata": {},
   "outputs": [
    {
     "name": "stdout",
     "output_type": "stream",
     "text": [
      "['H', 'e', 'l', 'l', 'o', 'h', 'o', 'w', 'a', 'r', 'e', 'y', 'o', 'u', 't', 'h', 'i', 's', 'i', 's', 'a', 'D', 'S', 'c', 'o', 'u', 'r', 's', 'e', 'T', 'h', 'i', 's', 'c', 'o', 'u', 'r', 's', 'e', 'c', 'o', 'n', 't', 'a', 'i', 'n', 's', 'm', 'o', 'd', 'u', 'l', 'e', 's', 'a', 'n', 'd', 's', 'e', 'c', 't', 'i', 'o', 'n', 's', 'W', 'h', 'a', 't', 'w', 'o', 'u', 'l', 'd', 'y', 'o', 'u', 'l', 'i', 'k', 'e', 't', 'o', 's', 't', 'a', 'r', 't', 'w', 'i', 't', 'h']\n"
     ]
    }
   ],
   "source": [
    "import re\n",
    "sample_text = \"Hello, how are you? this is a DS course! This course contains 20 modules and 2 sections. What would you like to start with?\"\n",
    "print(re.findall(r'[a-zA-Z]',sample_text))"
   ]
  },
  {
   "cell_type": "code",
   "execution_count": 31,
   "metadata": {},
   "outputs": [
    {
     "name": "stdout",
     "output_type": "stream",
     "text": [
      "['Hello', 'how', 'are', 'you', 'this', 'is', 'a', 'DS', 'course', 'This', 'course', 'contains', 'modules', 'and', 'sections', 'What', 'would', 'you', 'like', 'to', 'start', 'with']\n"
     ]
    }
   ],
   "source": [
    "sample_text = \"Hello, how are you? this is a DS course! This course contains 20 modules and 2 sections. What would you like to start with?\"\n",
    "print(re.findall(r'[a-zA-Z]+',sample_text))"
   ]
  },
  {
   "cell_type": "code",
   "execution_count": 17,
   "metadata": {},
   "outputs": [
    {
     "name": "stdout",
     "output_type": "stream",
     "text": [
      "['20', '2']\n"
     ]
    }
   ],
   "source": [
    "sample_text = \"Hello, how are you? this is a DS course! This course contains 20 modules and 2 sections. What would you like to start with?\"\n",
    "print(re.findall(r'[0-9]+',sample_text))"
   ]
  },
  {
   "cell_type": "code",
   "execution_count": 33,
   "metadata": {},
   "outputs": [
    {
     "name": "stdout",
     "output_type": "stream",
     "text": [
      "['20', '2']\n"
     ]
    }
   ],
   "source": [
    "sample_text = \"Hello, how are you? this is a DS course! This course contains 20 modules and 2 sections. What would you like to start with?\"\n",
    "print(re.findall(r'[0-9]+',sample_text))"
   ]
  },
  {
   "cell_type": "markdown",
   "metadata": {},
   "source": [
    "\\ is excape characters, as - and . are special characters in regex, so to tell regex that we want to treat  - or . as normal - and .\n"
   ]
  },
  {
   "cell_type": "code",
   "execution_count": 18,
   "metadata": {},
   "outputs": [
    {
     "name": "stdout",
     "output_type": "stream",
     "text": [
      "['De-scope', '1-d', 'examples']\n"
     ]
    }
   ],
   "source": [
    "my_text = \"De-scope, 1-d examples\"\n",
    "print(re.findall(r'[a-zA-Z0-9\\-]+',my_text))"
   ]
  },
  {
   "cell_type": "code",
   "execution_count": 21,
   "metadata": {},
   "outputs": [
    {
     "name": "stdout",
     "output_type": "stream",
     "text": [
      "['De-scope', '1-d', 'examples', 'www.python-world.org\\\\something']\n"
     ]
    }
   ],
   "source": [
    "my_text = \"De-scope, 1-d examples, www.python-world.org\\something\"\n",
    "print(re.findall(r'[a-zA-Z0-9\\-\\.]+',my_text))"
   ]
  },
  {
   "cell_type": "code",
   "execution_count": 35,
   "metadata": {},
   "outputs": [
    {
     "name": "stdout",
     "output_type": "stream",
     "text": [
      "<_sre.SRE_Match object; span=(0, 8), match='De-scope'>\n"
     ]
    }
   ],
   "source": [
    "my_text = \"De-scope, 1-d examples, www.python-world.org\"\n",
    "print(re.match(r'[a-zA-Z0-9\\-\\.]+',my_text))"
   ]
  },
  {
   "cell_type": "code",
   "execution_count": 36,
   "metadata": {},
   "outputs": [
    {
     "name": "stdout",
     "output_type": "stream",
     "text": [
      "['a-z']\n"
     ]
    }
   ],
   "source": [
    "my_text = \"a-z,x-y,p-q\"\n",
    "print(re.findall(r'(a-z)',my_text))"
   ]
  },
  {
   "cell_type": "code",
   "execution_count": 37,
   "metadata": {},
   "outputs": [
    {
     "name": "stdout",
     "output_type": "stream",
     "text": [
      "[', ', ', ']\n"
     ]
    }
   ],
   "source": [
    "my_text = \"De-scope, 1-d examples, www.python-world.org\"\n",
    "print(re.findall(r'(\\,\\s)',my_text))"
   ]
  },
  {
   "cell_type": "code",
   "execution_count": 38,
   "metadata": {},
   "outputs": [
    {
     "name": "stdout",
     "output_type": "stream",
     "text": [
      "[',', ' ', ' ', ',', ' ']\n"
     ]
    }
   ],
   "source": [
    "my_text = \"De-scope, 1-d examples, www.python-world.org\"\n",
    "print(re.findall(r'(\\s|,)',my_text))"
   ]
  },
  {
   "cell_type": "markdown",
   "metadata": {},
   "source": [
    "Match VS Search"
   ]
  },
  {
   "cell_type": "code",
   "execution_count": 39,
   "metadata": {},
   "outputs": [
    {
     "name": "stdout",
     "output_type": "stream",
     "text": [
      "<_sre.SRE_Match object; span=(6, 11), match='World'>\n",
      "None\n"
     ]
    }
   ],
   "source": [
    "import re\n",
    "sample_text = \"Hello World\"\n",
    "print(re.search(r'World',sample_text)) #returns match\n",
    "print(re.match(r'World',sample_text)) #doesnt returns anything as it search for the match in first word"
   ]
  },
  {
   "cell_type": "markdown",
   "metadata": {},
   "source": [
    "Text Pre-processing is used to make text better input for applying machine learning techniques or statistical methods. For example\n",
    "\n",
    "    - Tokenization to create a bag of words\n",
    "    - lower casing\n",
    "    - Lemmetization/Stemming ( shorten words to root stems)\n",
    "    - Removing stop words, punctuations or unwanted tokens\n",
    "    - Parts of speech tagging"
   ]
  },
  {
   "cell_type": "markdown",
   "metadata": {},
   "source": [
    "# 2. Tokenization"
   ]
  },
  {
   "cell_type": "markdown",
   "metadata": {},
   "source": [
    "Tokenization is the process of breaking a stream of textual content into smaller chunks(tokens) e.g. words, terms, symbols, or some other meaningful elements called tokens. ... The list of tokens turns into input for in additional processing including parsing or text mining\n",
    "\n",
    "Own rules can be created using regular expressions e.g : \n",
    "- Seperation based on punctuations e.g sepertions based on all hashtags in tweet\n",
    "- Breaking words or sentences\n",
    "\n",
    "\n",
    "This is one step helps to preparing a text for NLP\n",
    "\n",
    "Libraries for NLP:\n",
    "- TextBlob\n",
    "- SpyCa\n",
    "- Gensim\n",
    "- NLTK\n",
    "\n",
    "Why Tokenize?\n",
    "    -Easier to map parts of speech(POS)\n",
    "    -common words match\n",
    "    -cleaning data e.g removing unwanted tokens\n",
    "\n",
    "We will see NLTK(Natural Language Toolkit) library mostly\n",
    "\n",
    "NLTK Tokenizers:\n",
    "- sent_tokenize  - doc into sentences\n",
    "- word_tokenize  - sentences into words\n",
    "- regexp_tokenize - tokenize doc or string based on regex pattern\n",
    "- TweetTokenizer - special class to seperate hashtags, lots of exclamation points"
   ]
  },
  {
   "cell_type": "code",
   "execution_count": 22,
   "metadata": {},
   "outputs": [
    {
     "name": "stdout",
     "output_type": "stream",
     "text": [
      "['SENT', '#1', 'Hello', 'this', 'is', 'First', 'sentence', 'This', 'is', 'Second', 'sentence', 'This', 'is', 'Third', 'sentence', 'What', 's', '4th', 'line', '?']\n"
     ]
    }
   ],
   "source": [
    "from nltk.tokenize import regexp_tokenize\n",
    "my_text = \"SENT #1 : Hello this is First sentence. This is Second sentence. This is Third sentence. What's 4th line?\"\n",
    "print(regexp_tokenize(my_text,r'(\\w+|\\#\\d|\\?)'))\n"
   ]
  },
  {
   "cell_type": "code",
   "execution_count": 24,
   "metadata": {},
   "outputs": [
    {
     "name": "stdout",
     "output_type": "stream",
     "text": [
      "['Hello this is First sentence.', 'This is Second sentence.', 'This is Third sentence.', \"What's 4th line?\"]\n"
     ]
    }
   ],
   "source": [
    "import nltk\n",
    "#print(nltk.__version__)\n",
    "\n",
    "my_text = \"Hello this is First sentence. This is Second sentence. This is Third sentence. What's 4th line?\"\n",
    "\n",
    "\n",
    "#use nltk.download('punkt') to install package\n",
    "from nltk.tokenize import sent_tokenize\n",
    "from nltk.tokenize import word_tokenize\n",
    "\n",
    "sentences = sent_tokenize(my_text)\n",
    "print(sentences)"
   ]
  },
  {
   "cell_type": "code",
   "execution_count": 27,
   "metadata": {},
   "outputs": [
    {
     "name": "stdout",
     "output_type": "stream",
     "text": [
      "Hello this is First sentence. This is Second sentence. This is Third sentence. What's 4th line?\n",
      "['Hello', 'this', 'is', 'First', 'sentence', '.', 'This', 'is', 'Second', 'sentence', '.', 'This', 'is', 'Third', 'sentence', '.', 'What', \"'s\", '4th', 'line', '?']\n"
     ]
    }
   ],
   "source": [
    "my_txt_file = \"C:\\\\Users\\\\pgjd2\\\\Desktop\\\\ETLHIVE\\\\Datasets\\\\Miscellaneous\\\\SimpleText.txt\"\n",
    "with open(my_txt_file,'r') as file:\n",
    "    my_text = file.read()\n",
    "print(my_text)\n",
    "\n",
    "from nltk.tokenize import sent_tokenize\n",
    "from nltk.tokenize import word_tokenize\n",
    "\n",
    "sentences = sent_tokenize(my_text)\n",
    "tokenized_sent = word_tokenize(sentences[1])\n",
    "tokenized_sent\n",
    "\n",
    "tokenized_sent = word_tokenize(my_text)\n",
    "print(tokenized_sent)"
   ]
  },
  {
   "cell_type": "code",
   "execution_count": 32,
   "metadata": {
    "scrolled": true
   },
   "outputs": [
    {
     "name": "stdout",
     "output_type": "stream",
     "text": [
      "Hello this is First sentence. This is Second sentence. This is Third sentence. What's 4th line?\n",
      "['what', '?', \"'s\", 'line', 'sentence', 'this', 'third', '4th', 'is', 'second', '.', 'first', 'hello']\n"
     ]
    }
   ],
   "source": [
    "my_txt_file = \"C:\\\\Users\\\\pgjd2\\\\Desktop\\\\ETLHIVE\\\\Datasets\\\\Miscellaneous\\\\SimpleText.txt\"\n",
    "with open(my_txt_file,'r') as file:\n",
    "    my_text = file.read()\n",
    "print(my_text)\n",
    "\n",
    "from nltk.tokenize import sent_tokenize\n",
    "from nltk.tokenize import word_tokenize\n",
    "\n",
    "unique_tokens = list(set((word_tokenize(my_text.lower()))))\n",
    "print(unique_tokens)"
   ]
  },
  {
   "cell_type": "code",
   "execution_count": 33,
   "metadata": {},
   "outputs": [
    {
     "name": "stdout",
     "output_type": "stream",
     "text": [
      "<class 'str'>\n",
      "20 28\n"
     ]
    }
   ],
   "source": [
    "my_txt_file = \"C:\\\\Users\\\\pgjd2\\\\Desktop\\\\ETLHIVE\\\\Datasets\\\\Miscellaneous\\\\SimpleText.txt\"\n",
    "with open(my_txt_file,'r') as file:\n",
    "    my_text = file.read()\n",
    "print(type(my_text))\n",
    "\n",
    "from nltk.tokenize import sent_tokenize\n",
    "from nltk.tokenize import word_tokenize\n",
    "\n",
    "match = re.search(r\"sentence\", my_text)\n",
    "print (match.start(),match.end())  #returns start and end indexes of match"
   ]
  },
  {
   "cell_type": "code",
   "execution_count": 40,
   "metadata": {},
   "outputs": [
    {
     "name": "stdout",
     "output_type": "stream",
     "text": [
      "<class 'str'>\n",
      "['What', \"'s\", '4th', 'line', '?']\n",
      "['What', \"'\", 's', '4th', 'line', '?']\n"
     ]
    }
   ],
   "source": [
    "my_txt_file = \"C:\\\\Users\\\\pgjd2\\\\Desktop\\\\ETLHIVE\\\\Datasets\\\\Miscellaneous\\\\SimpleText.txt\"\n",
    "with open(my_txt_file,'r') as file:\n",
    "    my_text = file.read()\n",
    "print(type(my_text))\n",
    "my_text\n",
    "\n",
    "from nltk.tokenize import sent_tokenize\n",
    "from nltk.tokenize import wordpunct_tokenize\n",
    "\n",
    "sentences = sent_tokenize(my_text)\n",
    "sentences\n",
    "print(word_tokenize(sentences[3]))\n",
    "print(wordpunct_tokenize(sentences[3])) "
   ]
  },
  {
   "cell_type": "markdown",
   "metadata": {},
   "source": [
    "Tokenize all unique words from Monty Python's Holy Grail"
   ]
  },
  {
   "cell_type": "code",
   "execution_count": 45,
   "metadata": {},
   "outputs": [
    {
     "name": "stdout",
     "output_type": "stream",
     "text": [
      "{'Said', 'ZOOT', 'More', 'ENCHANTER', 'land', 'praised', 'Hoa', 'naughty', 'one', 'late', 'soiled', 'sight', 'Do', 'pestilence', 'HERBERT', 'aquatic', 'grenade', 'hospitality', 'carry', 'diaphragm', 'economic', 'inherent', 'think', 'ruffians', 'separate', 'lobbed', 'through', 'Tale', 'fled', 'WOMAN', \"'anging\", 'witches', 'wants', 'influential', 'seems', 'horrendous', 'has', 'Father', 'kings', 'given', 'defeat', 'guarded', 'Yeah', 'string', 'if', 'mistake', 'particularly', 'radio', 'bugger-folk', 'well', 'matter', 'face', 'crying', 'Jesus', '22', 'Guards', 'oral', 'Picture', 'haste', 'problems', 'act', 'siren', 'grail', 'oooh', 'whether', 'everyone', 'Prince', 'Hallo', 'nothing', 'Make', 'course', 'presence', 'moment', 'chorus', 'Winter', 'Mine', 'dona', 'took', 'towards', 'Wait', 'still', 'creature', 'Whoa', 'clllank', 'rescue', 'second', 'ca', 'VILLAGERS', 'wounding', 'Ow', 'mayhem', 'jokes', 'feast', 'how', 'rodent', 'be', 'Uugh', 'armor', 'search', 'sample', 'Thpppppt', 'Skip', 'sex', 'killed', 'Quite', 'Get', 'donkey-bottom', 'seen', 'GUESTS', 'keeper', 'Come', 'Those', 'Grenade', 'away', 'CARTOON', 'lord', 'Together', 'lies', 'armed', 'holy', 'Excalibur', 'voluntarily', 'sharp', 'fallen', 'suspenseful', 'purely', 'c', 'varletesses', 'kills', 'Badon', 'Forgive', 'freedom', 'somebody', 'doors', 'work', 'gentle', 'classes', 'van', 'BORS', 'plain', 'smelt', 'much', 'violence', 'so-called', 'fine', 'later', 'life', 'why', 'easy', 'nice', 'guiding', \"'forgive\", 'which', 'Death', 'winter', \"'aaggggh\", 'scared', 'Perhaps', 'Consult', 'shrubbery', 'arm', 'CRONE', 'wave', 'va.', 'move', 'mother', 'ever', 'bid', 'cry', 'worried', 'Herbert', 'writing', 'return', 'things', 'inside', 'am', 'hast', 'cut', 'tinder', 'yeah', 'nervous', 'Follow', 'None', 'longer', 'thy', 'four', 'gained', 'fortune', 'seldom', 'intermission', 'Now', 'CHARACTER', 'bit', 'strategy', 'off', 'bang', 'pay', 'fold', 'wishes', 'scarper', 'hills', 'impeccable', 'Saint', 'follow', 'crone', 'Today', 'Yes', 'Man', 'wood', 'aloft', 'window-dresser', 'wicked', 'yel', 'room', 'enemies', 'relax', 'those', 'vital', 'false', 'enjoying', 'hello', 'To', 'Peril', 'passing', 'blanket', 'HISTORIAN', 'Ulk', 'unladen', 'stay', 'Hiyah', 'without', 'largest', 'pause', 'Anarcho-syndicalism', 'Y', 'behold', 'scrape', '6', 'Psalms', 'grin', 'breadth', 'convinced', 'because', 'Castle', 'finest', 'Steady', 'object', 'behind', 'watery', 'eccentric', \"'Here\", 'wounded', 'most', 'breakfast', \"'T\", 'Dis-mount', 'two-thirds', 'sawwwww', 'some', 'worked', 'hiyaah', 'smashed', 'saw', 'LAUNCELOT', 'packing', 'Must', 'excuse', 'broken', 'ju', 'Round', 'either', 'shivering', 'distress', 'our', 'enough', 'dramatic', 'chanting', 'Away', 'watch', 'Uuh', 'upon', 'CUSTOMER', 'hall', 'surprise', 'town', 'CART-MASTER', 'humble', 'give', 'Seek', 'number', 'Stop', 'employed', 'PIGLET', 'terrible', 'haw', 'ordinary', 'vote', 'mine', 'nearly', 'invincible', 'bird', '24', 'creep', 'rhymes', 'Practice', 'wrong', 'son', 'purest', 'actually', 'THE', 'vain', '18', ']', 'woods', 'marry', 'folk', 'Robinson', 'ceremony', 'aside', 'GIRLS', 'anyway', 'count', 'so', 'trough', 'dull', 'At', 'saved', 'hear', 'deal', 'wait', 'rrrr', 'resting', 'penalty', 'quiet', 'Pie', 'Old', 'hee', 'shrubberies', 'Eh', 'warned', 'Bloody', 'MAYNARD', 'basic', 'Aaauugh', '11', 'Mud', 'We', 'mile', 'get', 'mayest', '13', 'Recently', 'miss', 'Put', 'welcome', 'Huh', \"'e\", 'agree', 'have', \"'Ere\", 'Crapper', 'Shh', 'over', 'brought', 'nineteen-and-a-half', 'sire', 'cast', 'newt', 'nor', 'my', 'b', 'legendary', 'gallantly', 'ptoo', 'fooling', 'having', 'Nay', 'DENNIS', 'case', '#', 'suffered', 'Tell', 'Iiiives', 'you', 'spooky', 'bleed', 'pig-dogs', 'beyond', 'entrance', 'fire', 'Alice', \"'Ni\", 'pure', 'True', 'learning', 'anywhere', 'twin', 'worthy', 'continue', 'Mother', 'Britain', 'Why', 'twenty', 'Knights', 'chord', 'creak', 'Olfin', 'cross', 'quests', 'Message', 'large', 'wield', 'This', 'society', 'Monsieur', 'Bridge', 'Holy', 'Joseph', '19', 'rich', 'awaits', 'derives', 'two', 'internal', 'forty-three', 'NARRATOR', 'kingdom', 'running', 'chickened', 'beautiful', 'Twenty-one', 'Wayy', 'maybe', 'They', 'that', 'PARTY', 'SUN', 'Hah', 'Roger', 'dead', 'weight', 'cough', 'If', 'offensive', 'put', 'wound', 'temptation', 'Oooo', 'send', 'Antioch', 'food', 'known', 'only', 'became', 'interested', 'pussy', 'real', 'bastard', 'Aramaic', 'kick', 'affairs', 'met', 'social', 'purpose', '4', '2', 'Thy', 'animator', 'bring', 'leaps', 'temptress', 'lady', 'of', 'wiper', 'to', 'beat', 'who', 'bangin', 'leads', 'foot', 'Churches', 'drilllll', 'peasant', 'Explain', 'mashed', 'north', 'Chapter', 'tart', 'Midget', 'medical', 'runes', 'bonk', 'silence', 'Victory', 'bloody', 'rock', 'direction', 'Huy', 'English', 'dungeon', 'gravy', 'sons', 'Bravely', 'beacon', 'sank', 'Yapping', 'Ah', 'Aaaaaaaah', 'until', 'bathing', 'guided', 'knew', 'groveling', 'escape', 'Pin', 'idiom', 'prevent', 'glory', 'friend', 'very', 'scots', 'Bedevere', 'nose', 'scimitar', 'walking', 'Just', 'seek', 'Of', 'officer', 'spoken', 'na', 'Swamp', 'pounds', 'must', 'sell', \"'m\", 'killer', 'throat', 'wings', 'out', 'live', \"'ll\", 'understanding', 'run', 'should', 'her', 'Shall', 'need', 'charged', 'eis', 'Armaments', 'dressed', 'Aaaugh', 'valiant', 'Yay', 'mud', 'Packing', 'them', 'biggest', 'bravest', 'ehh', 'alight', 'Firstly', 'wooden', 'happy', 'Dramatically', 'ANIMATOR', 'fell', 'air-speed', 'Thpppt', 'Five', 'mortally', 'lying', 'DIRECTOR', 'explain', 'understand', 'lucky', 'while', 'Who', 'able', 'try', 'plover', 'Hill', 'arms', 'started', 'marrying', 'almost', \"'Ecky-ecky-ecky-ecky-pikang-zoop-boing-goodem-zoo-owli-zhiv\", 'lie', 'too', 'king', 'business', 'fight', 'dogma', 'bond', 'open', 'Thppppt', 'warmer', 'dressing', 'Concorde', 'tiny', 'risk', 'general', 'making', 'he', 'power', 'sad', 'banana-shaped', 'delirious', 'Chaste', 'Back', 'Dragon', 'lot', 'conclusion', 'unclog', 'apologise', 'mercy', 'laughing', 'answers', 'Galahad', 'Thank', 'unarmed', 'stupid', 'W', 'African', 'its', 'country', 'baby', 'sword', 'Charge', 'Aaaah', 'perpetuates', 'consulted', 'Forward', 'Hand', 'nine', 'collective', 'depart', 'strength', 'magne', 'his', 'sheep', 'thank', 'retreat', 'sir', 'cart', 'Huyah', 'Silly', 'verses', 'listen', 'more', 'eight', 'once', '14', 'stayed', 'find', 'eat', 'him', 'Quoi', 'gon', 'uhh', 'PRISONER', 'stew', 'know', 'on', 'advancing', 'new', 'keepers', 'harmless', 'split', 'tackle', 'yelling', 'thanks', 'bits', 'MINSTREL', 'rocks', 'Pure', 'chu', 'etc', 'eats', 'scene', 'de', 'flight', 'taunting', 'sneaking', 'gurgle', 'fwump', 'k-nnnnniggets', 'settles', 'covered', 'Silence', 'tiny-brained', 'ugly', 'vicious', 'hmm', 'bringing', 'strange', 'Ooh', 'formidable', 'every', 'bother', 'like', 'set', 'sacrifice', 'order', 'use', 'Shrubberies', 'Woa', 'heh', 'dorsal', 'himself', 'ninepence', 'SIR', 'woosh', 'entered', 'Yeaah', \"'Oooooooh\", 'wise', 'along', 'curtains', 'WITCH', 'fly', 'doctors', 'Thsss', 'Greetings', 'bones', 'place', 'immediately', 'Yeaaah', 'breath', 'accomplished', 'couple', 'BROTHER', 'stone', 'doubt', 'Aauuggghhh', 'On', 'France', 'carp', 'maintain', 'earth', 'dine', 'taking', ':', 'thought', 'Ewing', 'Hmm', 'supposed', 'worst', 'draw', 'acting', 'us', 'castle', 'Bristol', 'tear', 'evil', 'ROGER', 'afraid', 'properly', 'utterly', 'line', 'Lake', 'pond', 'suppose', 'whop', 'Did', 'Loimbard', 'shalt', 'problem', 'Auuuuuuuugh', 'allowed', 'KNIGHT', 'splash', 'forced', \"'Man\", 'request', 'chops', 'ho', 'reared', 'distributing', 'wipers', 'frighten', 'come', 'daughter', 'commands', 'crossed', 'proved', 'told', 'Could', 'same', 'else', 'we', 'expect', 'Spring', 'ridden', 'certain', 'worse', 'went', 'accompanied', 'kneecaps', 'needs', 'ponds', 'also', 'feathers', 'ill.', 'minute', 'around', 'against', 'first', \"'cause\", 'wedlock', 'Running', 'stuffed', 'ferocity', 'Build', 'hidden', 'samite', 'Table', 'Lie', 'Right', 'preserving', 'mean', 'such', 'wherein', 'shimmering', 'emperor', 'baaaa', 'frontal', 'scales', 'conclusions', 'manner', 'Ridden', 'Use', 'thwonk', 'Aaah', 'daft', 'grips', 'Winston', 'Lord', 'shelter', 'ni', 'inferior', 'awaaaaay', \"'ni\", 'way', '[', 'ignore', ')', 'Ni', 'Too', 'Apples', 'slightly', 'Himself', 'Open', 'weapon', 'repressed', \"'Morning\", 'As', 'sign', 'Lady', 'King', \"'it\", 'Guy', 'self-perpetuating', 'ye', 'lambs', 'bridgekeeper', 'sonny', \"'Aauuuuugh\", 'help', 'ARTHUR', 'tracts', 'individually', 'supports', 'coconut', 'Umhm', 'wedding', 'Pendragon', 'yellow', 'looking', 'never', 'really', 'answer', 'another', 'pass', 'again', 'havin', 'Hold', 'year', 'exciting', 'dare', 'Bring', 'cave', 'INSPECTOR', 'horn', 'Gorge', 'somewhere', 'depressing', 'OTHER', 'Am', 'Other', 'single-handed', 'um', 'snuff', 'buggering', 'centuries', 'language', 'is', 'Listen', 'slash', 'Aaauggh', 'bridge', 'was', 'bold', 'singing', 'haaa', 'Never', 'triumphs', \"'re\", 'want', 'boys', 'girl', 'heh..', 'snore', 'Tim', 'where', 'DINGO', 'illegitimate-faced', 'lad', 'Grail', 'defeator', 'By', 'Keep', 'No', 'lapin', 'auntie', 'band', 'SECOND', 'danger', 'sniff', 'best', 'sponge', \"'Til\", 'Every', 'Augh', 'take', 'farcical', 'mangled', 'islands', 'Riiight', 'Alright', 'identical', 'ethereal', \"'sorry\", 'Ector', 'cover', 'they', 'easily', 'opera', 'Fiends', 'knights', 'discovers', 'rewr', 'for', 'argue', 'grovel', 'all', 'two-level', 'vary', 'performance', 'kind', 'clear', 'Gawain', 'big', 'dress', 'soon', 'starling', 'tragic', 'could', 'with', 'blondes', 'hoo', 'zoosh', 'nibble', 'no', 'masses', 'NI', 'history', 'Patsy', 'Court', 'chastity', 'Hee', 'KNIGHTS', 'saying', 'outdated', 'imprisoned', \"'em\", '21', 'reads', '20', 'coconuts', 'OF', 'remember', 'Assyria', 'mightiest', 'i', 'May', 'Halt', 'asking', 'Britons', 'k-nnniggets', 'totally', 'Which', 'HEADS', 'leg', 'cruel', 'feel', 'supreme', 'quack', 'ratified', \"n't\", 'gra', 'spake', 'hat', 'door', 'Between', 'weather', 'la', 'left', 'back', 'perilous', 'dragging', 'pull', 'outside', 'illustrious', 'stand', 'Mind', 'PRINCE', 'Then', 'knock', 'See', 'Chicken', 'score', 'awhile', 'Excuse', 'Look', 'Would', 'ROBIN', 'bowels', 'suit', 'particular', 'bitching', 'got', 'Sorry', 'shut', 'clunk', 'Very', 'Go', 'jam', 'Attila', 'Walk', 'tit', 'Bors', 'knight', 'Defeat', 'traveller', 'will', 'Ho', 'tired', 'shall', 'brush', 'mac', 'something', 'git', 'burn', 'feint', 'Doctor', 'high', 'me', 'RANDOM', 'named', 'elderberries', 'Shrubber', 'used', 'cadeau', 'safety', 'Brave', 'grip', 'WIFE', 'exploiting', 'coming', 'being', 'autocracy', 'do', 'sing', 'art', 'leap', 'moistened', 'round', 'keen', 'raised', 'Agh', 'Cornwall', 'Cider', 'glass', 'And', 'hamster', 'flights', 'logically', 'master', 'Let', 'although', 'MIDDLE', 'favor', 'each', 'Hooray', 'your', 'spank', 'legally', 'model', 'wonderful', '8', 'When', 'Blue', 'witness', 'been', '7', 'CHARACTERS', 'little', 'alarm', '.', 'routines', 'water', 'thine', 'Ay', 'birds', 'mandate', 'forth', 'dunno', 'shrubber', 'looks', 'then', 'seemed', 'resumes', 'tie', \"'s\", 'GUEST', 'lads', 'mate', 'build', 'make', 'command', 'autonomous', 'burned', 'thou', 'mystic', 'empty', 'Umm', 'test', 'attend', 'police', 'Nine', 'look', 'working', '23', 'Bad', '15', 'next', 'telling', 'clank', 'guests', 'bottoms', 'Piglet', '1', 'she', 'treat', 'men', 'change', 'Nu', 'cost', 'averting', 'SENTRY', 'bosom', 'people', 'mad', \"'is\", 'Two', 'velocity', 'women', 'knows', 'throwing', 'taunt', 'Haw', 'task', 'meeting', 'ham', 'Maynard', 'ones', 'swallow', 'KING', 'Almighty', 'Robin', 'Yup', 'vouchsafed', 'BLACK', 'dark', 'GUARDS', 'Book', 'under', '?', 'bi-weekly', \"'round\", 'bladders', 'Eee', 'enter', 'temperate', 's', 'merger', 'scholar', 'Bravest', 'carried', 'Saxons', 'eet', 'kneeling', 'terribly', 'amazes', 'laurels', 'Providence', 'Run', 'court', 'badger', 'minstrels', 'glad', 'Summer', 'full', 'trouble', 'CROWD', 'summon', \"'O\", 'FATHER', 'aptly', 'suggesting', 'the-not-quite-so-brave-as-Sir-Lancelot', 'Most', 'twong', 'CRASH', 'example', 'o', 'p', 'Un', 'Nothing', 'His', 'Farewell', 'bride', 'SOLDIER', 'changed', 'fair', 'riding', 'knees-bent', 'uuup', 'Where', 'Uhh', 'dear', 'Remove', 'FRENCH', 'wet', 'hand', 'trusty', 'spanking', 'Bedwere', 'dancing', 'Iesu', 'angels', 'foul', 'knocked', 'Good', 'decided', 'sink', 'music', 'disheartened', 'pack', 'outwit', 'between', 'death', 'name', 'Therefore', 'middle', 'Sir', 'stood', 'better', 'dictatorship', 'lovely', 'Ives', 'Thee', 'going', 'headoff', 'song', 'flesh', 'teeth', 'than', 'times', 'clack', 'high-pitched', 'leave', 'valleys', 'laden', 'Rather', 'trade', 'regulations', \"'uuggggggh\", 'give-away', 'good', 'unsingable', 'Lucky', 'climes', 'silly', 'whom', 'bridges', 'cartoon', 'already', 'design', 'today', 'were', 'die', 'higher', 'Welcome', 'retold', 'third', 'strangers', 'pulp', 'Mercea', 'owns', 'Oooh', 'sixteen', 'peril', 'Neee-wom', 'house', 'Over', 'hacked', 'With', 'Hic', 'fifty', 'color', 'swallows', 'pram', 'rabbit', 'great', 'duty', 'yes', 'grail-shaped', 'the', 'approaching', 'just', 'carve', 'sometimes', \"'ve\", 'l', 'blow', 'would', ';', 'committed', 'sloths', 'at', 'majority', 'here', 'an', 'foe', 'now', 'worry', 'ha', 'Quick', 'joyful', 'lives', 'Four', 'parts', 'heard', 'said', 'ran', 'counting', 'major', 'roar', 'daring', 'boom', 'splat', 'frozen', 'side', 'does', 'What', 'basis', 'vache', 'VILLAGER', 'confuse', 'strongest', 'thing', 'about', 'married', 'Aauuuves', 'filth', 'PRINCESS', 'WINSTON', 'Our', 'streak', 'DEAD', 'king-a', 'RIGHT', \"'\", 'heeh', 'suffice', 'unplugged', 'LOVELY', '16', 'Quickly', 'bottom', 'wayy', 'arrows', 'sent', 'Beyond', 'tea', 'deeds', 'Aah', 'by', 'lost', 'spanked', 'honored', 'mooooooo', 'stress', 'built', 'dying', 'Not', 'night', 'formed', 'MIDGET', 'noise', 'ha..', 'sacred', 'Pull', 'ours', 'heroic', 'ooh', 'non-migratory', 'three', 'orangutans', 'Oooohoohohooo', 'bum', 'table', 'woman', 'Gallahad', 'called', 'pimples', 'ungallant', 'I', 'Hoo', 'Thou', 'halves', 'gave', 'y', 'accent', 'bicker', 'beds', 'Oui', 'awaaay', 'near', 'tell', 'clang', 'French', 'Ages', 'helpful', 'Aggh', 'g', 'nice-a', 'Heh', 'sister', 'tops', 'PATSY', 'become', 'chosen', 'discovered', 'kicked', 'fruit', '--', 'lose', 'Anybody', 'returns', 'north-east', 'mangy', 'Supreme', 'progress', 'Far', 'U', 'day', 'Hm', 'in', 'union', 'show', 'crash', 'SCENE', 'it', 'lunged', 'Zoot', 'time', 'busy', 'tail', 'might', '5', 'TIM', 'Leaving', 'pweeng', 'Camaaaaaargue', 'gay', 'Everything', 'force', 'small', 'since', 'Bon', 'bows', 'Not-appearing-in-this-film', 'huge', 'Shut', 'Cherries', 'ARMY', 'many', 'blessing', 'Um', 'She', 'Here', 'together', 'bastards', 'rather', 'not', 'Heee', 'animal', 'please', 'talk', 'taken', 'necessary', 'Clear', 'afoot', 'Three', 'father', 'OFFICER', 'removed', 'cop', 'dance', 'minutes', 'oo', 'Say', 'suddenly', 'handsome', 'pound', 'Prepare', 'warning', 'Actually', \"'First\", 'closest', 'eyes', 'push', 'strand', 'enchanter', 'Ayy', 'clap', 'Hya', 'fatal', 'anyone', 'turns', 'occasion', 'sense', 'anything', 'bravely', 'Nador', \"'til\", 'One', 'Thppt', 'right', 'Found', 'snows', 'In', 'liar', 'sequin', 'ALL', 'Allo', 'impersonate', 'spirit', 'recover', 'clop', 'Lead', 'young', 'So', 'Burn', 'wart', 'down', 'happens', 'Stand', 'ounce', 'dynamite', 'even', 'hundred-and-fifty', 'tough', 'bats', 'path', 'assault', 'For', 'Dappy', 'vests', 'oui', 'sure', 'call', 'Even', 'GALAHAD', 'dangerous', 'bless', 'u', '10', 'flint', 'Fine', 'outrageous', 'types-a', 'war', 'Meanwhile', 'Bones', 'BRIDE', 'carving', 'chest', 'compared', 'always', 'unhealthy', 'trumpets', 'differences', 'awfully', 'day..', 'underwear', 'clue', 'Dingo', 'witch', 'Knight', 'Looks', 'Until', 'headed', 'five', 'names', 'sworn', 'guest', 'setting', 'expensive', 'bells', 'LUCKY', 'yet', 'carrying', 'forward', 'Ohh', 'Aauuugh', 'Order', '(', 'sorry', 'did', 'A', 'pig', 'Stay', 'It', 'waste', 'far', 'these', 'sweet', 'scribble', 'Battle', 'fought', 'bed-wetting', 'weighs', 'may', \"C'est\", 'thirty-seven', 'reasonable', 'giggle', 'nick', 'Idiom', 'LEFT', 'raped', 'Eternal', 'lobbest', 'An', 'Chickennn', 'bunny', 'blood', 'let', 'undressing', 'auuuuuuuugh', 'martin', 'aaugh', 'Hey', 'biters', 'Uh', 'thonk', 'decision', 'executive', 'heart', 'assist', 'uuggggggh', 'stop', 'Like', 'period', 'dictating', 'Chop', 'luck', 'carries', 'threw', 'twenty-four', 'bite', 'Splendid', 'point', 'but', 'Arthur', 'j', 'obviously', 'forest', 'least', 'seem', 'warm', \"'I\", 'private', 'soft', 'testicles', 'keep', 'from', 'commune', 'mer', 'whoever', 'liege', 'avenged', 'meant', 'ask', 'Lancelot', 'bint', 'Camelot', 'pen', 'donaeis', 'GUARD', 'plan', '9', 'Great', 'simple', 'appease', 'STUNNER', 'Your', 'rejoicing', 'wo', 'science', 'looney', 'fourth', 'any', 'questions', 'further', 'eh', 'Exactly', 'class', 'Ahh', \"'d\", 'ways', 'thud', 'Frank', 'MAN', 'My', 'buggered', 'Iiiiives', 'relics', 'nobody', 'Aaagh', \"'shrubberies\", 'tale', 'finds', 'someone', 'nasty', 'living', 'er', 'hopeless', 'PERSON', 'getting', 'binding', 'mumble', 'old', 'Caerbannog', 'hell', 'man', ',', 'bet', 'approacheth', 'kill', 'SHRUBBER', 'zone', 'Try', 'You', 'Throw', 'servant', 'length', 'see', 'this', 'lair', 'oh', 'MONKS', 'smack', 'electric', 'own', 'head', 'legs', 'lonely', 'castanets', 'All', 'CRAPPER', 'looked', 'heads', 'boil', 'thump', 'main', 'nostrils', 'and', 'ere', 'profane', 'wan', 'tap-dancing', 'Once', 'Really', 'certainly', \"'old\", 'chickening', 'what', 'felt', 'twang', 'done', '...', 'forget', 'strewn', 'rest', 'Waa', 'CAMERAMAN', 'un', 'quest', 'domine', 'system', 'GREEN', 'therefore', 'handle', 'limbs', 'examine', 'mooo', 'n', 'bois', 'other', 'stab', 'scenes', 'time-a', 'reached', 'dub', 'floats', 'lived', 'punishment', 'guards', 'k-niggets', 'Launcelot', 'pansy', 'comin', 'Angnor', 'completely', 'pray', 'Since', 'brunettes', 'out-clever', 'fart', 'indeed', 'successful', 'brave', 'Hyy', 'a', 'Brother', 'entering', 'whispering', 'turned', 'Dennis', 'passed', 'effect', 'quite', 'demand', 'swords', 'dad', 'Aagh', 'found', 'nightfall', 'quarrel', 'biscuits', 'fellows', \"'Course\", 'remain', 'join', 'nearer', 'shows', 'Honestly', 'Gable', 'footwork', 'feet', 'Aaaaugh', 'doing', 'spam', 'proceed', 'Supposing', 'throughout', 'Mmm', 'burst', 'England', 'migrate', 'Have', 'last', 'sod', 'rode', 'refuse', 'door-opening', 'cheesy', 'There', 'training', 'makes', '12', 'using', 'Please', 'BEDEVERE', 'earthquakes', 'icy', 'their', 'go', 'signifying', 'Thursday', 'behaviour', 'Tall', 'shit', 'Are', 'pissing', 'ladies', 'question', 'Princess', 'when', 'dirty', 'horse', '!', 'guard', 'Quiet', 'bad-tempered', 'died', 'buy', 'say', 'indefatigable', 'excepting', 'duck', 'Hiyya', 'Cut', 'capital', 'word', 'squeak', 'Action', 'bad', 'note', 'Aaaaaaaaah', 'imperialist', 'Does', 'ride', 'Surely', 'up', 'cope', 'tonight', 'Will', '3', \"'Erbert\", 'there', 'special', 'Aaaaaah', 'Unfortunately', 'wide', 'absolutely', 'stretched', 'Amen', 'uh', 'idea', 'Speak', 'bleeder', 'swamp', 'sovereign', 'Is', 'Hang', 'herring', 'The', '17', 'protect', 'carved', 'south', 'clad', 'pointy', 'ready', 'aunties', 'Or', 'are', 'Bread', 'w', 'hang', 'whinny', 'That', 'government', 'whose', 'had', 'creeper', 'automatically', 'liver', 'quick', 'jump', 'Behold', 'Tower', 'Torment', 'adversary', 'ai', 'yourself', 'Hurry', 'remembered', 'Clark', 'alive', 'sort', 'Be', 'Peng', 'HEAD', 'Christ', 'everything', 'can', \"'S\", 'arrange', 'or', 'howl', \"'aaaah\", 'Hello', 'personally', 'person', 'scott', 'end', 'Well', 'anarcho-syndicalist', 'chance', 'tree', 'long', 'ratios', 'N', 'O', 'miserable', 'B', 'Help', 'previous', 'types', 'wind', 'persons', 'speak', 'OLD', 'Arimathea', 'hospital', 'says', 'Uther', 'after', 'Erm', 'rope', 'repressing', 'Ask', 'travellers', 'Oh', 'straight', 'Off', 'tropical', 'Ha', 'scratch', 'courage', 'sun', 'BRIDGEKEEPER', 'anchovies', 'Black', \"'Dennis\", 'But', 'visually', \"e'er\", 'week', 'AMAZING', 'GOD', 'stops', 'snap', 'attack', 'medieval', 'gone', 'Anthrax', 'He', 'home', 'Ninepence', 'less', 'sigh', 'outdoors', 'Schools', 'European', 'goes', 'words', 'workers', 'valor', 'God', 'Hiyaah', 'into', 'eisrequiem', 'requiem', 'required', 'walk', 'yours', 'Beast', 'Autumn', 'Rheged', 'smashing', \"d'you\", 'dappy', 'Wood', 'VOICE', 'gouged', 'held', 'considerable', 'Enchanter', 'made', 'Fetchez', 'brain', 'CONCORDE', 'body', 'bed', 'elbows', 'husk', 'Anyway', 'present', 'How', 'beside', 'cereals', 'Divine', 'asks', 'aaaaaah', 'drink', 'favorite', 'as', \"'To\", 'apart'}\n"
     ]
    }
   ],
   "source": [
    "from nltk.tokenize import word_tokenize\n",
    "\n",
    "my_txt_file = \"C:\\\\Users\\\\pgjd2\\\\Desktop\\\\ETLHIVE\\\\Datasets\\\\Miscellaneous\\\\MPHolyGrail.txt\"\n",
    "with open(my_txt_file,'r') as file:\n",
    "    my_text = file.read()\n",
    "\n",
    "my_text\n",
    "\n",
    "all_unique_words = set(word_tokenize(my_text))\n",
    "print(all_unique_words)\n"
   ]
  },
  {
   "cell_type": "markdown",
   "metadata": {},
   "source": [
    "Bag of Words\n",
    "\n",
    "Counter function is used to fetch the frequencty of a word"
   ]
  },
  {
   "cell_type": "code",
   "execution_count": 46,
   "metadata": {},
   "outputs": [
    {
     "name": "stdout",
     "output_type": "stream",
     "text": [
      "Counter({'The': 3, 'Goat': 3, '.': 3, 'is': 1, 'in': 1, 'the': 1, 'car': 1, 'goes': 1, 'towards': 1, 'east': 1, 'likes': 1, 'to': 1, 'eat': 1, 'grass': 1})\n"
     ]
    }
   ],
   "source": [
    "from nltk.tokenize import word_tokenize\n",
    "from collections import Counter\n",
    "text = \"The Goat is in the car. The Goat goes towards east. The Goat likes to eat grass.\"\n",
    "counter = Counter(word_tokenize(text))\n",
    "print(counter)"
   ]
  },
  {
   "cell_type": "code",
   "execution_count": 51,
   "metadata": {},
   "outputs": [
    {
     "data": {
      "text/plain": [
       "[('The', 3), ('Goat', 3)]"
      ]
     },
     "execution_count": 51,
     "metadata": {},
     "output_type": "execute_result"
    }
   ],
   "source": [
    "counter.most_common(2)"
   ]
  },
  {
   "cell_type": "code",
   "execution_count": 47,
   "metadata": {},
   "outputs": [
    {
     "data": {
      "text/plain": [
       "['The',\n",
       " 'The',\n",
       " 'The',\n",
       " 'Goat',\n",
       " 'Goat',\n",
       " 'Goat',\n",
       " 'is',\n",
       " 'in',\n",
       " 'the',\n",
       " 'car',\n",
       " '.',\n",
       " '.',\n",
       " '.',\n",
       " 'goes',\n",
       " 'towards',\n",
       " 'east',\n",
       " 'likes',\n",
       " 'to',\n",
       " 'eat',\n",
       " 'grass']"
      ]
     },
     "execution_count": 47,
     "metadata": {},
     "output_type": "execute_result"
    }
   ],
   "source": [
    "list(counter.elements())"
   ]
  },
  {
   "cell_type": "markdown",
   "metadata": {},
   "source": [
    "Example 1: Guess topic of wikipedia article withour looking into it"
   ]
  },
  {
   "cell_type": "code",
   "execution_count": 48,
   "metadata": {},
   "outputs": [
    {
     "name": "stdout",
     "output_type": "stream",
     "text": [
      "[(',', 757), ('the', 622), ('.', 408), ('of', 399), ('{', 274), ('}', 274), ('and', 262), ('to', 252), ('|', 252), ('computer', 250), ('a', 244), ('in', 201), (')', 173), ('(', 172), ('=', 172), (\"''\", 171), (':', 149), ('is', 117), ('computers', 99), ('that', 90)]\n"
     ]
    }
   ],
   "source": [
    "from nltk.tokenize import word_tokenize\n",
    "from collections import Counter\n",
    "wikifile = \"C:\\\\Users\\\\pgjd2\\\\Desktop\\\\ETLHIVE\\\\Datasets\\\\Miscellaneous\\\\Wikipedia articles\\\\Wikipedia articles\\\\wiki_text_computer.txt\"\n",
    "with open(wikifile,'r',encoding=\"utf8\") as file:\n",
    "    text = file.read()\n",
    "tokens = word_tokenize(text)\n",
    "tokens = [token.lower() for token in tokens]\n",
    "counter = Counter(tokens)\n",
    "print(counter.most_common(20))"
   ]
  },
  {
   "cell_type": "markdown",
   "metadata": {},
   "source": [
    "Example 2: a simple project to apply webscraping technique and bag of words technique to guess a wikipedia article from given link"
   ]
  },
  {
   "cell_type": "code",
   "execution_count": 55,
   "metadata": {},
   "outputs": [
    {
     "name": "stdout",
     "output_type": "stream",
     "text": [
      "[(',', 1016), (\"''\", 620), ('the', 532), ('.', 392), ('of', 351), ('a', 278), ('and', 217), (':', 215), ('in', 190), ('to', 177), ('is', 167), ('electric', 158), ('[', 149), (']', 149), ('(', 126), (')', 126), ('electricity', 105), ('as', 101), ('that', 84), ('^', 82)]\n"
     ]
    }
   ],
   "source": [
    "from bs4 import BeautifulSoup\n",
    "import requests\n",
    "from nltk.tokenize import word_tokenize\n",
    "from collections import Counter\n",
    "url = \"https://en.wikipedia.org/wiki/Electricity\"\n",
    "response = requests.get(url)\n",
    "html = response.text\n",
    "soup = BeautifulSoup(html,\"html.parser\" )  #Create a soup object\n",
    "mainText = soup.get_text()\n",
    "tokens = word_tokenize(mainText)\n",
    "tokens = [token.lower() for token in tokens]\n",
    "counter = Counter(tokens)\n",
    "print(counter.most_common(20)) "
   ]
  },
  {
   "cell_type": "markdown",
   "metadata": {},
   "source": [
    "# 3. Parts of speech tagging"
   ]
  },
  {
   "cell_type": "markdown",
   "metadata": {},
   "source": [
    "Use below commands for instalaltion\n",
    "\n",
    "nltk.download('averaged_perceptron_tagger') specific to tagging\n",
    "\n",
    "nltk.download() for all references, note - this is time taking"
   ]
  },
  {
   "cell_type": "code",
   "execution_count": 56,
   "metadata": {},
   "outputs": [
    {
     "name": "stdout",
     "output_type": "stream",
     "text": [
      "Hello this is First sentence. This is Second sentence. This is Third sentence. What's 4th line?\n",
      "<class 'str'>\n",
      "[('This', 'DT'), ('is', 'VBZ'), ('Second', 'JJ'), ('sentence', 'NN'), ('.', '.')]\n"
     ]
    }
   ],
   "source": [
    "my_txt_file = \"C:\\\\Users\\\\pgjd2\\\\Desktop\\\\ETLHIVE\\\\Datasets\\\\Miscellaneous\\\\SimpleText.txt\"\n",
    "with open(my_txt_file,'r') as file:\n",
    "    my_text = file.read()\n",
    "    \n",
    "print(my_text)\n",
    "print(type(my_text))\n",
    "\n",
    "from nltk.tokenize import sent_tokenize\n",
    "from nltk.tokenize import word_tokenize\n",
    "from nltk.tag import pos_tag\n",
    "sentences = sent_tokenize(my_text)\n",
    "words = word_tokenize(sentences[1])\n",
    "parts_of_speech = pos_tag(words)\n",
    "print(parts_of_speech)"
   ]
  },
  {
   "cell_type": "code",
   "execution_count": 57,
   "metadata": {},
   "outputs": [
    {
     "name": "stdout",
     "output_type": "stream",
     "text": [
      "WP: WH-pronoun\n",
      "    that what whatever whatsoever which who whom whosoever\n",
      "VBZ: verb, present tense, 3rd person singular\n",
      "    bases reconstructs marks mixes displeases seals carps weaves snatches\n",
      "    slumps stretches authorizes smolders pictures emerges stockpiles\n",
      "    seduces fizzes uses bolsters slaps speaks pleads ...\n",
      "CD: numeral, cardinal\n",
      "    mid-1890 nine-thirty forty-two one-tenth ten million 0.5 one forty-\n",
      "    seven 1987 twenty '79 zero two 78-degrees eighty-four IX '60s .025\n",
      "    fifteen 271,124 dozen quintillion DM2,000 ...\n",
      "NN: noun, common, singular or mass\n",
      "    common-carrier cabbage knuckle-duster Casino afghan shed thermostat\n",
      "    investment slide humour falloff slick wind hyena override subhumanity\n",
      "    machinist ...\n",
      ".: sentence terminator\n",
      "    . ! ?\n",
      "DT: determiner\n",
      "    all an another any both del each either every half la many much nary\n",
      "    neither no some such that the them these this those\n"
     ]
    }
   ],
   "source": [
    "import nltk\n",
    "nltk.help.upenn_tagset('WP')\n",
    "nltk.help.upenn_tagset('VBZ')\n",
    "nltk.help.upenn_tagset('CD')\n",
    "nltk.help.upenn_tagset('NN')\n",
    "nltk.help.upenn_tagset('.')\n",
    "nltk.help.upenn_tagset('DT')"
   ]
  },
  {
   "cell_type": "markdown",
   "metadata": {},
   "source": [
    "# 4. Stemming"
   ]
  },
  {
   "cell_type": "markdown",
   "metadata": {},
   "source": [
    "stemming is the process for reducing inflected (or sometimes derived) words to their stem, base or root form—generally a written word form\n",
    "NLTK provides several famous stemmers interfaces(depending upon stemming algorithm), such as Porter stemmer, Lancaster Stemmer, Snowball Stemmer and etc"
   ]
  },
  {
   "cell_type": "code",
   "execution_count": 51,
   "metadata": {},
   "outputs": [
    {
     "name": "stdout",
     "output_type": "stream",
     "text": [
      "electr\n",
      "electr\n",
      "hear\n",
      "prejudic\n",
      "lement\n"
     ]
    }
   ],
   "source": [
    "from nltk.stem.porter import PorterStemmer\n",
    "porter_stemmer = PorterStemmer()\n",
    "print(porter_stemmer.stem('electricity'))\n",
    "print(porter_stemmer.stem('electric'))\n",
    "print(porter_stemmer.stem('hearing'))\n",
    "print(porter_stemmer.stem('prejudice'))\n",
    "print(porter_stemmer.stem('lementation'))"
   ]
  },
  {
   "cell_type": "markdown",
   "metadata": {},
   "source": [
    "# 5. Lemmatizer "
   ]
  },
  {
   "cell_type": "markdown",
   "metadata": {},
   "source": [
    "NLTK Lemmatization method is based on WordNet’s built-in morphy function.\n",
    "\n",
    "WordNet® is a large lexical database of English. Nouns, verbs, adjectives and adverbs are grouped into sets of cognitive synonyms (synsets), each expressing a distinct concept\n",
    "\n",
    "Lemmatisation is closely related to stemming. The difference is that a stemmer operates on a single word without knowledge of the context, and therefore cannot discriminate between words which have different meanings depending on part of speech. However, stemmers are typically easier to implement and run faster, and the reduced accuracy may not matter for some applications."
   ]
  },
  {
   "cell_type": "code",
   "execution_count": 56,
   "metadata": {},
   "outputs": [
    {
     "name": "stdout",
     "output_type": "stream",
     "text": [
      "abacus\n",
      "horse\n",
      "locus\n",
      "abacus\n"
     ]
    }
   ],
   "source": [
    "import nltk\n",
    "from nltk.stem import WordNetLemmatizer\n",
    "wordnet_lemmatizer = WordNetLemmatizer()\n",
    "print(wordnet_lemmatizer.lemmatize('abaci'))\n",
    "print(wordnet_lemmatizer.lemmatize('horses'))\n",
    "print(wordnet_lemmatizer.lemmatize('loci'))\n",
    "print(wordnet_lemmatizer.lemmatize('abaci'))\n"
   ]
  },
  {
   "cell_type": "code",
   "execution_count": 75,
   "metadata": {},
   "outputs": [
    {
     "name": "stdout",
     "output_type": "stream",
     "text": [
      "abaci\n",
      "abacus\n"
     ]
    }
   ],
   "source": [
    "#stemmer Vs Lemmatizer\n",
    "from nltk.stem.porter import PorterStemmer\n",
    "porter_stemmer = PorterStemmer()\n",
    "print(porter_stemmer.stem('abaci'))\n",
    "\n",
    "import nltk\n",
    "from nltk.stem import WordNetLemmatizer\n",
    "wordnet_lemmatizer = WordNetLemmatizer()\n",
    "print(wordnet_lemmatizer.lemmatize('abaci'))"
   ]
  },
  {
   "cell_type": "markdown",
   "metadata": {},
   "source": [
    "# 6. Chunking & NER(Named entiry recogntion)\n",
    "\n",
    "NER is an NLP task to identify important named entities in the etxt e.g. people, places, states, works ofarts and many others\n",
    "\n",
    "This can be used along with topic identification\n",
    "\n",
    "Standford CoreNLP library(Java based) is integrated with Python through NLTK\n"
   ]
  },
  {
   "cell_type": "code",
   "execution_count": 52,
   "metadata": {},
   "outputs": [
    {
     "data": {
      "image/png": "[encoded data removed]",
      "text/plain": [
       "Tree('S', [Tree('PERSON', [('Mike', 'NNP')]), ('here', 'RB'), (',', ','), ('an', 'DT'), Tree('ORGANIZATION', [('NVIDIA', 'NNP')]), ('employee', 'NN'), (',', ','), ('live', 'VBP'), ('in', 'IN'), Tree('GPE', [('Washington', 'NNP')])])"
      ]
     },
     "execution_count": 52,
     "metadata": {},
     "output_type": "execute_result"
    }
   ],
   "source": [
    "from nltk.chunk import ne_chunk\n",
    "from nltk.tag import pos_tag\n",
    "from nltk.tokenize import word_tokenize\n",
    "my_txt = \"Mike here,an NVIDIA employee,live in Washington \"\n",
    "tagged = pos_tag(word_tokenize(my_txt))\n",
    "ne_chunk(tagged)\n",
    "#NE  = ne_chunk(tagged)\n",
    "#NE.draw()\n",
    "#print(ne_chunk(tagged))\n",
    "#GPE is Geo-Political Entity\n",
    "#for this you iwll need to install ghostscript from https://www.ghostscript.com/download/gsdnld.html\n",
    "#And set the environment variable (like C:\\Program Files (x86)\\gs9.23\\bin) as PATH "
   ]
  },
  {
   "cell_type": "markdown",
   "metadata": {},
   "source": [
    "# 7. Stop words"
   ]
  },
  {
   "cell_type": "markdown",
   "metadata": {},
   "source": [
    "In computing, stop words are words which are filtered out before or after processing of natural language data (text). Though stop words usually refer to the most common words in a language, there is no single universal list of stop words used by all natural language processing tools, and indeed not all tools even use such a list"
   ]
  },
  {
   "cell_type": "code",
   "execution_count": 56,
   "metadata": {},
   "outputs": [
    {
     "name": "stdout",
     "output_type": "stream",
     "text": [
      "['Hello', ',', 'how', 'are', 'you', '?', 'this', 'is', 'a', 'DS', 'course', '!', 'This', 'course', 'contains', '20', 'modules', 'and', '2', 'sections', '.', 'What', 'would', 'you', 'like', 'to', 'start', 'with', '?']\n",
      "['Hello', ',', '?', 'DS', 'course', '!', 'This', 'course', 'contains', '20', 'modules', '2', 'sections', '.', 'What', 'would', 'like', 'start', '?']\n"
     ]
    }
   ],
   "source": [
    "from nltk.corpus import stopwords\n",
    "from nltk.tokenize import word_tokenize\n",
    "stop_words = set(stopwords.words(\"english\"))\n",
    "#print(stop_words)\n",
    "sample_text = \"Hello, how are you? this is a DS course ! This course contains 20 modules and 2 sections. What would you like to start with?\"\n",
    "words = word_tokenize(sample_text)\n",
    "print (words)\n",
    "filtered_sent = []\n",
    "for w in words:\n",
    "    if w not in stop_words: \n",
    "        filtered_sent.append(w)\n",
    "        \n",
    "print(filtered_sent)\n",
    "\n"
   ]
  },
  {
   "cell_type": "markdown",
   "metadata": {},
   "source": [
    "# 8. Corpora"
   ]
  },
  {
   "cell_type": "markdown",
   "metadata": {},
   "source": [
    "In linguistics, a corpus (plural corpora) or text corpus is a large and structured set of texts (nowadays usually electronically stored and processed"
   ]
  },
  {
   "cell_type": "code",
   "execution_count": 58,
   "metadata": {},
   "outputs": [
    {
     "name": "stdout",
     "output_type": "stream",
     "text": [
      "['[The King James Bible]\\n\\nThe Old Testament of the King James Bible\\n\\nThe First Book of Moses:  Called Genesis\\n\\n\\n1:1 In the beginning God created the heaven and the earth.', '1:2 And the earth was without form, and void; and darkness was upon\\nthe face of the deep.', 'And the Spirit of God moved upon the face of the\\nwaters.', '1:3 And God said, Let there be light: and there was light.', '1:4 And God saw the light, that it was good: and God divided the light\\nfrom the darkness.']\n"
     ]
    }
   ],
   "source": [
    "#Accessing corpus\n",
    "from nltk.corpus import  gutenberg\n",
    "from nltk.tokenize import sent_tokenize\n",
    "sample = gutenberg.raw(\"bible-kjv.txt\")\n",
    "token = sent_tokenize(sample)\n",
    "print(token[0:5])"
   ]
  },
  {
   "cell_type": "code",
   "execution_count": 64,
   "metadata": {},
   "outputs": [
    {
     "name": "stdout",
     "output_type": "stream",
     "text": [
      "no_stops: ['goat', 'car', 'goat', 'goes', 'towards', 'east', 'goat', 'likes', 'eat', 'grass', 'goat', 'legs']\n",
      "most common:  [('goat', 4), ('car', 1)]\n"
     ]
    }
   ],
   "source": [
    "#Corpus for pre-processing\n",
    "from nltk.corpus import stopwords\n",
    "#nltk.download('stopwords')\n",
    "text = \"The Goat is in the car. The Goat goes towards east. The Goat likes to eat grass, this goat has 4 legs and 1 tail..Waah. sahi..!!\"\n",
    "tokens = [w for w in word_tokenize(text.lower()) if w.isalpha()]\n",
    "no_stops = [t for t in tokens if t not in stopwords.words('english') ] # fetch only enlish words\n",
    "print(\"no_stops:\", no_stops)\n",
    "print(\"most common: \", Counter(no_stops).most_common(2))"
   ]
  },
  {
   "cell_type": "markdown",
   "metadata": {},
   "source": [
    "# 9. WordNET"
   ]
  },
  {
   "cell_type": "markdown",
   "metadata": {},
   "source": [
    "\n",
    "WordNet is a lexical database for the English language. It groups English words into sets of synonyms called synsets, provides short definitions and usage examples, and records a number of relations among these synonym sets or their members"
   ]
  },
  {
   "cell_type": "code",
   "execution_count": 59,
   "metadata": {},
   "outputs": [
    {
     "name": "stdout",
     "output_type": "stream",
     "text": [
      "[Synset('plan.n.01'), Synset('program.n.02'), Synset('broadcast.n.02'), Synset('platform.n.02'), Synset('program.n.05'), Synset('course_of_study.n.01'), Synset('program.n.07'), Synset('program.n.08'), Synset('program.v.01'), Synset('program.v.02')]\n",
      "Synset('broadcast.n.02')\n",
      "broadcast.n.02\n"
     ]
    }
   ],
   "source": [
    "from nltk.corpus import wordnet\n",
    "syns = wordnet.synsets(\"program\")\n",
    "print(syns)\n",
    "print(syns[2])\n",
    "print(syns[2].name())"
   ]
  },
  {
   "cell_type": "code",
   "execution_count": 61,
   "metadata": {},
   "outputs": [
    {
     "name": "stdout",
     "output_type": "stream",
     "text": [
      "broadcast.n.02\n"
     ]
    }
   ],
   "source": [
    "from nltk.corpus import wordnet\n",
    "syns = wordnet.synsets(\"program\")\n",
    "print(syns[2].name())"
   ]
  },
  {
   "cell_type": "code",
   "execution_count": 78,
   "metadata": {},
   "outputs": [
    {
     "name": "stdout",
     "output_type": "stream",
     "text": [
      "a radio or television show\n"
     ]
    }
   ],
   "source": [
    "from nltk.corpus import wordnet\n",
    "syns = wordnet.synsets(\"program\")\n",
    "print(syns[2].definition())"
   ]
  },
  {
   "cell_type": "code",
   "execution_count": 79,
   "metadata": {},
   "outputs": [
    {
     "name": "stdout",
     "output_type": "stream",
     "text": [
      "['did you see his program last night?']\n"
     ]
    }
   ],
   "source": [
    "from nltk.corpus import wordnet\n",
    "syns = wordnet.synsets(\"program\")\n",
    "print(syns[2].examples())"
   ]
  },
  {
   "cell_type": "code",
   "execution_count": 62,
   "metadata": {},
   "outputs": [
    {
     "name": "stdout",
     "output_type": "stream",
     "text": [
      "[Lemma('broadcast.n.02.broadcast'), Lemma('broadcast.n.02.program'), Lemma('broadcast.n.02.programme')]\n"
     ]
    }
   ],
   "source": [
    "from nltk.corpus import wordnet\n",
    "syns = wordnet.synsets(\"program\")\n",
    "print(syns[2].lemmas())"
   ]
  },
  {
   "cell_type": "markdown",
   "metadata": {},
   "source": [
    "Lemmas Vs Synset\n",
    "A lemma is wordnet's version of an entry in a dictionary: A word in canonical form, with a single meaning. E.g., if you wanted to look up \"banks\" in the dictionary, the canonical form would be \"bank\" and there would be separate lemmas for the nouns meaning \"financial institution\" and \"side of the river\", a separate one for the verb \"to bank (on)\", etc.\n",
    "\n",
    "The term synset stands for \"set of synonyms\". A set of synonyms is a set of words with similar meaning, e.g. ship, skiff, canoe, kayak might all be synonyms for boat. In the nltk, a synset is in fact a set of lemmas with related meaning. Taking your example (the results of wn.synsets(\"cake\") and wn.lemmas(\"cake\"))\n"
   ]
  },
  {
   "cell_type": "markdown",
   "metadata": {},
   "source": [
    "# gensim"
   ]
  },
  {
   "attachments": {
    "image.png": {
     "image/png": "[encoded data removed]"
    }
   },
   "cell_type": "markdown",
   "metadata": {},
   "source": [
    "- Open-source NLP Library\n",
    "- Specifically designed to handle large text collections, using data streaming and efficient incremental algorithms\n",
    "- Used top-acedemic model to perform complex tasks like :\n",
    "    Building doc or word vector\n",
    "    topic identificaiton and doc comparison\n",
    "\n",
    "Note: Word vector is the multi-dimentional representation of word\n",
    "![image.png](attachment:image.png)"
   ]
  },
  {
   "cell_type": "code",
   "execution_count": 66,
   "metadata": {},
   "outputs": [
    {
     "name": "stdout",
     "output_type": "stream",
     "text": [
      "{',': 0, 'a': 1, 'building': 2, 'doc': 3, 'gensim': 4, 'is': 5, 'like': 6, 'modeling': 7, 'multi-dim': 8, 'of': 9, 'open-source': 10, 'or': 11, 'representation': 12, 'robust': 13, 'space': 14, 'vector': 15, 'word': 16, 'collections': 17, 'designed': 18, 'documents': 19, 'handle': 20, 'large': 21, 'specifically': 22, 'text': 23, 'to': 24, '.': 25, 'algorithms': 26, 'and': 27, 'document': 28, 'document2vec': 29, 'for': 30, 'identifying': 31, 'implementations': 32, 'important': 33, 'includes': 34, 'projections': 35, 'random': 36, 'tf-idf': 37, 'tokens': 38, 'with': 39, 'word2vec': 40, '2011': 41, 'also': 42, 'dissertation': 43, 'in': 44, 'online': 45, 'phd': 46, 'published': 47, 'some': 48, 'the': 49, 'were': 50}\n"
     ]
    }
   ],
   "source": [
    "#-----Preprocessing-----\n",
    "from nltk.tokenize import word_tokenize\n",
    "from collections import Counter\n",
    "from nltk.corpus import stopwords\n",
    "docs = [\"Gensim is a robust open-source vector space modeling, like building doc or word vector, word vector is multi-dim representation of word \",\n",
    "        \"Gensim is specifically designed to handle large text collections, or text documents\",\n",
    "        \"Gensim includes implementations of tf-idf, random projections, word2vec and document2vec algorithms. tf-idf is for identifying tokens with important a word is to a document\",\n",
    "        \"Some of the online algorithms in Gensim were also published in the 2011 PhD dissertation\"]\n",
    "tokenized_docs = [word_tokenize(doc.lower()) for doc in docs]\n",
    "\n",
    "#--------------------gensim dictionary\n",
    "from gensim.corpora.dictionary import Dictionary\n",
    "dictionary = Dictionary(tokenized_docs)\n",
    "print(dictionary.token2id)"
   ]
  },
  {
   "cell_type": "code",
   "execution_count": 67,
   "metadata": {},
   "outputs": [
    {
     "name": "stdout",
     "output_type": "stream",
     "text": [
      "[[(0, 2), (1, 1), (2, 1), (3, 1), (4, 1), (5, 2), (6, 1), (7, 1), (8, 1), (9, 1), (10, 1), (11, 1), (12, 1), (13, 1), (14, 1), (15, 3), (16, 3)], [(0, 1), (4, 1), (5, 1), (11, 1), (17, 1), (18, 1), (19, 1), (20, 1), (21, 1), (22, 1), (23, 2), (24, 1)], [(0, 2), (1, 2), (4, 1), (5, 2), (9, 1), (16, 1), (24, 1), (25, 1), (26, 1), (27, 1), (28, 1), (29, 1), (30, 1), (31, 1), (32, 1), (33, 1), (34, 1), (35, 1), (36, 1), (37, 2), (38, 1), (39, 1), (40, 1)], [(4, 1), (9, 1), (26, 1), (41, 1), (42, 1), (43, 1), (44, 2), (45, 1), (46, 1), (47, 1), (48, 1), (49, 2), (50, 1)]]\n"
     ]
    }
   ],
   "source": [
    "#build a gensin corpus\n",
    "corpus = [dictionary.doc2bow(tokens) for tokens in tokenized_docs]\n",
    "print(corpus)"
   ]
  },
  {
   "attachments": {
    "image.png": {
     "image/png": "[encoded data removed]"
    }
   },
   "cell_type": "markdown",
   "metadata": {},
   "source": [
    "# Tf-idf\n",
    "(Term frequency - inverse document frequency)\n",
    "\n",
    "Numerical statistic that is intended to reflect how important a word is to a document in a collection or corpus\n",
    "\n",
    "\n",
    "Note: a corpus is a collection of written texts\n",
    "\n",
    "Why & How?\n",
    "- Each corpus may have shared words beyond stop words\n",
    "- Such words should be down weighted in imprtance\n",
    "- For example, IT related documents often contain 'computer' though its not important so want to downweight it\n",
    "- Tf-idf helps in ensuring most common words are not considered as key words \n",
    "- Also keeps document specific frequent words with high weight\n",
    "\n",
    "## Tf-idf formula\n",
    "\n",
    "![image.png](attachment:image.png)\n",
    "\n",
    "tf(i,j) is the percentage share of a word compared to all tokens\n",
    "\n",
    "Here, tf-idf weight of token i in j doc depends upon two factors:\n",
    "    - number of occurance of token i in j document\n",
    "    - log of fraction of total no of docs to no of docs containing i\n",
    "\n",
    "Hence,\n",
    "\n",
    "Weight of token i in j doc increases if:\n",
    "    - number of occurance of token i in j document increases\n",
    "    - if the expression within log increases, this can happen if number of total documents are very high compared to number of documents containing token i, which means a token occurs in only few documents\n",
    "\n",
    "Weight of token i in j doc decreases if:\n",
    "    - number of occurance of token i in j document decreases\n",
    "    - if the expression within log decreaases (i.e if the token is available in almost every doc, the fraction within log appraoches 1 and log of value nearing 1 appraoches 0)"
   ]
  },
  {
   "cell_type": "code",
   "execution_count": 69,
   "metadata": {},
   "outputs": [
    {
     "name": "stdout",
     "output_type": "stream",
     "text": [
      "TfidfModel(num_docs=4, num_nnz=65)\n"
     ]
    }
   ],
   "source": [
    "from gensim.models.tfidfmodel import TfidfModel\n",
    "tfidf = TfidfModel(corpus)\n",
    "print(tfidf)"
   ]
  },
  {
   "cell_type": "code",
   "execution_count": 70,
   "metadata": {},
   "outputs": [
    {
     "name": "stdout",
     "output_type": "stream",
     "text": [
      "[(0, 2), (1, 1), (2, 1), (3, 1), (4, 1), (5, 2), (6, 1), (7, 1), (8, 1), (9, 1), (10, 1), (11, 1), (12, 1), (13, 1), (14, 1), (15, 3), (16, 3)]\n"
     ]
    }
   ],
   "source": [
    "print(corpus[0])"
   ]
  },
  {
   "cell_type": "code",
   "execution_count": 71,
   "metadata": {
    "scrolled": true
   },
   "outputs": [
    {
     "name": "stdout",
     "output_type": "stream",
     "text": [
      "[(0, 0.09027338834702432), (1, 0.1087532915747138), (2, 0.2175065831494276), (3, 0.2175065831494276), (5, 0.09027338834702432), (6, 0.2175065831494276), (7, 0.2175065831494276), (8, 0.2175065831494276), (9, 0.04513669417351216), (10, 0.2175065831494276), (11, 0.1087532915747138), (12, 0.2175065831494276), (13, 0.2175065831494276), (14, 0.2175065831494276), (15, 0.6525197494482828), (16, 0.3262598747241414)]\n"
     ]
    }
   ],
   "source": [
    "tfidf_weights = tfidf[corpus[0]]\n",
    "print(tfidf_weights)"
   ]
  },
  {
   "cell_type": "code",
   "execution_count": 79,
   "metadata": {},
   "outputs": [
    {
     "name": "stdout",
     "output_type": "stream",
     "text": [
      "['Gensim is a robust open-source vector space modeling, like building doc or word vector, word vector is multi-dim representation of word ', 'Gensim is specifically designed to handle large text collections, or text documents', 'Gensim includes implementations of tf-idf, random projections, word2vec and document2vec algorithms. tf-idf is for identifying tokens with important a word is to a document', 'Some of the online algorithms in Gensim were also published in the 2011 PhD dissertation'] \n",
      "\n",
      "\n",
      "vector 0.6525197494482828\n",
      "word 0.3262598747241414\n",
      "building 0.2175065831494276\n",
      "doc 0.2175065831494276\n",
      "like 0.2175065831494276\n"
     ]
    }
   ],
   "source": [
    "print(docs,\"\\n\\n\")\n",
    "sorted_tfidf_weights = sorted(tfidf_weights, key=lambda w: w[1], reverse=True)\n",
    "\n",
    "for term_id, weight in sorted_tfidf_weights[:5]:\n",
    "    print(dictionary.get(term_id),weight)"
   ]
  },
  {
   "cell_type": "code",
   "execution_count": 9,
   "metadata": {},
   "outputs": [
    {
     "data": {
      "text/plain": [
       "['Loops',\n",
       " 'ImportingData',\n",
       " 'WebScraping',\n",
       " 'DataVisualization',\n",
       " 'Images',\n",
       " 'Statistical DV using Seaborn',\n",
       " 'Exploratory data analysis',\n",
       " 'ML-Supervised-Classification',\n",
       " 'ML-Supervised-Regression',\n",
       " 'ML-Unsupervised',\n",
       " 'Python Intro',\n",
       " 'DeepLearning',\n",
       " 'Lists',\n",
       " 'Tuple',\n",
       " 'Functions',\n",
       " 'NumPy',\n",
       " 'Dictionaries',\n",
       " 'Pandas',\n",
       " 'Cleaning Data',\n",
       " 'ConditionalFlow']"
      ]
     },
     "execution_count": 9,
     "metadata": {},
     "output_type": "execute_result"
    }
   ],
   "source": [
    "import os\n",
    "[x.split('_')[1].split('.')[0] for x in os.listdir() if x.endswith('.py')]"
   ]
  },
  {
   "cell_type": "code",
   "execution_count": null,
   "metadata": {},
   "outputs": [],
   "source": []
  }
 ],
 "metadata": {
  "kernelspec": {
   "display_name": "Python 3",
   "language": "python",
   "name": "python3"
  },
  "language_info": {
   "codemirror_mode": {
    "name": "ipython",
    "version": 3
   },
   "file_extension": ".py",
   "mimetype": "text/x-python",
   "name": "python",
   "nbconvert_exporter": "python",
   "pygments_lexer": "ipython3",
   "version": "3.6.5"
  }
 },
 "nbformat": 4,
 "nbformat_minor": 2
}
